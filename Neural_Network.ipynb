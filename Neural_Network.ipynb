{
  "nbformat": 4,
  "nbformat_minor": 0,
  "metadata": {
    "colab": {
      "provenance": []
    },
    "kernelspec": {
      "name": "python3",
      "display_name": "Python 3"
    },
    "language_info": {
      "name": "python"
    }
  },
  "cells": [
    {
      "cell_type": "code",
      "execution_count": 3,
      "metadata": {
        "id": "Zzj_u0ltFJo-"
      },
      "outputs": [],
      "source": [
        "import numpy as np\n",
        "import matplotlib.pyplot as plt\n",
        "import pandas as pd"
      ]
    },
    {
      "cell_type": "code",
      "source": [
        "class Linear:\n",
        "  def _init_(self,inputd,outputd):\n",
        "    self.w=np.random.randn(inputd,outputd)*0.01\n",
        "    self.b=np.zeros(1,outputd)\n",
        "\n",
        "  def forward(self,x):\n",
        "    self.input=x\n",
        "    return np.dot(x,self.w)+self.b\n",
        "\n",
        "  def backward(self,grado,lr):\n",
        "    gradi=np.dot(grado,self.w.T)\n",
        "    gradw=np.dot(self.input.T,grado)\n",
        "    gradb=np.sum(grado,axis=0)\n",
        "    self.w-=lr*gradw\n",
        "    self.b-=lr*gradb\n",
        "    return gradi"
      ],
      "metadata": {
        "id": "aAbrfAweOjDp"
      },
      "execution_count": 4,
      "outputs": []
    },
    {
      "cell_type": "code",
      "source": [
        "class Relu:\n",
        "  def forward(self,x):\n",
        "    self.input=x\n",
        "    return np.maximum(0,x)\n",
        "\n",
        "  def backward(self,grado,lr=None):\n",
        "    return grado*(self.input>0)"
      ],
      "metadata": {
        "id": "LYa7Kxkl-OYc"
      },
      "execution_count": 5,
      "outputs": []
    },
    {
      "cell_type": "code",
      "source": [
        "class Sigmoid:\n",
        "  def forward(self,x):\n",
        "    self.input=x\n",
        "    return 1/(1+np.exp(-x))\n",
        "\n",
        "  def backward(self,grado,lr=None):\n",
        "    sig=self.forward(self.input)\n",
        "    return grado*(sig*(1-sig))"
      ],
      "metadata": {
        "id": "Tlm1_Aci-WUz"
      },
      "execution_count": 6,
      "outputs": []
    },
    {
      "cell_type": "code",
      "source": [
        "class Tanh:\n",
        "  def forward(self,x):\n",
        "    self.input=x\n",
        "    return np.tanh(x)\n",
        "\n",
        "  def backward(self,grado,lr=None):\n",
        "    return grado*(1-np.tanh(self.input)**2)"
      ],
      "metadata": {
        "id": "cC4FFGY--3Sg"
      },
      "execution_count": 7,
      "outputs": []
    },
    {
      "cell_type": "code",
      "source": [
        "class Softmax:\n",
        "  def forward(self,x):\n",
        "    self.input=x\n",
        "    exp=np.exp(x-np.max(x,axis=1,keepdims=True))\n",
        "    return exp/np.sum(exp,axis=1,keepdims=True)\n",
        "\n",
        "  def backward(self,grado,lr=None):\n",
        "    return grado"
      ],
      "metadata": {
        "id": "nZofPS9e_Z8c"
      },
      "execution_count": 8,
      "outputs": []
    },
    {
      "cell_type": "code",
      "source": [
        "class Crossentropyloss:\n",
        "  def forward(self,y_pred,y_true):\n",
        "    self.y_pred=y_pred\n",
        "    self.y_true=y_true\n",
        "    m=y_true.shape[0]\n",
        "    log_likelihood=-np.log(y_pred[range(m),y_true])\n",
        "    loss=np.sum(log_likelihood)/m\n",
        "    return loss\n",
        "\n",
        "  def backward(self,lr=None):\n",
        "    m=self.y_true.shape[0]\n",
        "    grado=self.y_pred\n",
        "    grado[range(m),self.y_true]-=1\n",
        "    grado/=m\n",
        "    return grado"
      ],
      "metadata": {
        "id": "cAt7BfMhcj7f"
      },
      "execution_count": 9,
      "outputs": []
    },
    {
      "cell_type": "code",
      "source": [
        "class MSELoss:\n",
        "  def forward(self,y_pred,y_true):\n",
        "    self.y_pred=y_pred\n",
        "    self.y_true=y_true\n",
        "    return np.mean((y_true-y_pred)**2)\n",
        "\n",
        "  def backward(self,lr=None):\n",
        "    return 2*(self.y_pred-self.y_true)/self.y_true.shape[0]"
      ],
      "metadata": {
        "id": "-Ql9D4Klf_8N"
      },
      "execution_count": 10,
      "outputs": []
    },
    {
      "cell_type": "code",
      "source": [
        "class SGD:\n",
        "  def __init__(self,lr=0.01):\n",
        "    self.lr=lr\n",
        "\n",
        "  def step(self,params,grads):\n",
        "    for param,grad in zip(params,grads):\n",
        "      param-=self.lr*grad"
      ],
      "metadata": {
        "id": "zMp9QULtgP0c"
      },
      "execution_count": 11,
      "outputs": []
    }
  ]
}